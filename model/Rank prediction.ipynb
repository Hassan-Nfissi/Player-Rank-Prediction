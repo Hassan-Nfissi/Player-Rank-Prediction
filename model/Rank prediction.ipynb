{
 "cells": [
  {
   "cell_type": "code",
   "execution_count": 1,
   "metadata": {
    "colab": {
     "base_uri": "https://localhost:8080/",
     "height": 91
    },
    "executionInfo": {
     "elapsed": 13250,
     "status": "ok",
     "timestamp": 1724712762538,
     "user": {
      "displayName": "Hassan Nfissi",
      "userId": "14480210957196573271"
     },
     "user_tz": -60
    },
    "id": "uaid4kBq9zk9",
    "outputId": "9bb1eb3e-7062-441b-d663-903e8e08dad8"
   },
   "outputs": [],
   "source": [
    "import pandas as pd"
   ]
  },
  {
   "cell_type": "code",
   "execution_count": 3,
   "metadata": {},
   "outputs": [
    {
     "data": {
      "text/html": [
       "<div>\n",
       "<style scoped>\n",
       "    .dataframe tbody tr th:only-of-type {\n",
       "        vertical-align: middle;\n",
       "    }\n",
       "\n",
       "    .dataframe tbody tr th {\n",
       "        vertical-align: top;\n",
       "    }\n",
       "\n",
       "    .dataframe thead th {\n",
       "        text-align: right;\n",
       "    }\n",
       "</style>\n",
       "<table border=\"1\" class=\"dataframe\">\n",
       "  <thead>\n",
       "    <tr style=\"text-align: right;\">\n",
       "      <th></th>\n",
       "      <th>Rank</th>\n",
       "      <th>PLAYER</th>\n",
       "      <th>TEAM</th>\n",
       "      <th>GP</th>\n",
       "      <th>GS</th>\n",
       "      <th>MIN</th>\n",
       "      <th>G</th>\n",
       "      <th>ASST</th>\n",
       "      <th>SHOTS</th>\n",
       "      <th>SOG</th>\n",
       "    </tr>\n",
       "  </thead>\n",
       "  <tbody>\n",
       "    <tr>\n",
       "      <th>0</th>\n",
       "      <td>1</td>\n",
       "      <td>Jamie Vardy</td>\n",
       "      <td>Leicester City</td>\n",
       "      <td>35</td>\n",
       "      <td>34</td>\n",
       "      <td>3034</td>\n",
       "      <td>23</td>\n",
       "      <td>5</td>\n",
       "      <td>71</td>\n",
       "      <td>43</td>\n",
       "    </tr>\n",
       "    <tr>\n",
       "      <th>1</th>\n",
       "      <td>2</td>\n",
       "      <td>Danny Ings</td>\n",
       "      <td>Southampton</td>\n",
       "      <td>38</td>\n",
       "      <td>32</td>\n",
       "      <td>2812</td>\n",
       "      <td>22</td>\n",
       "      <td>2</td>\n",
       "      <td>66</td>\n",
       "      <td>38</td>\n",
       "    </tr>\n",
       "    <tr>\n",
       "      <th>2</th>\n",
       "      <td>3</td>\n",
       "      <td>Pierre-Emerick Aubameyang</td>\n",
       "      <td>Arsenal</td>\n",
       "      <td>36</td>\n",
       "      <td>35</td>\n",
       "      <td>3138</td>\n",
       "      <td>22</td>\n",
       "      <td>3</td>\n",
       "      <td>70</td>\n",
       "      <td>42</td>\n",
       "    </tr>\n",
       "    <tr>\n",
       "      <th>3</th>\n",
       "      <td>4</td>\n",
       "      <td>Raheem Shaquille Sterling</td>\n",
       "      <td>Manchester City</td>\n",
       "      <td>33</td>\n",
       "      <td>30</td>\n",
       "      <td>2660</td>\n",
       "      <td>20</td>\n",
       "      <td>1</td>\n",
       "      <td>68</td>\n",
       "      <td>38</td>\n",
       "    </tr>\n",
       "    <tr>\n",
       "      <th>4</th>\n",
       "      <td>5</td>\n",
       "      <td>Mohamed Salah Ghaly</td>\n",
       "      <td>Liverpool</td>\n",
       "      <td>34</td>\n",
       "      <td>33</td>\n",
       "      <td>2884</td>\n",
       "      <td>19</td>\n",
       "      <td>10</td>\n",
       "      <td>95</td>\n",
       "      <td>59</td>\n",
       "    </tr>\n",
       "  </tbody>\n",
       "</table>\n",
       "</div>"
      ],
      "text/plain": [
       "   Rank                     PLAYER             TEAM  GP  GS   MIN   G  ASST  \\\n",
       "0     1                Jamie Vardy   Leicester City  35  34  3034  23     5   \n",
       "1     2                 Danny Ings      Southampton  38  32  2812  22     2   \n",
       "2     3  Pierre-Emerick Aubameyang          Arsenal  36  35  3138  22     3   \n",
       "3     4  Raheem Shaquille Sterling  Manchester City  33  30  2660  20     1   \n",
       "4     5        Mohamed Salah Ghaly        Liverpool  34  33  2884  19    10   \n",
       "\n",
       "   SHOTS  SOG  \n",
       "0     71   43  \n",
       "1     66   38  \n",
       "2     70   42  \n",
       "3     68   38  \n",
       "4     95   59  "
      ]
     },
     "execution_count": 3,
     "metadata": {},
     "output_type": "execute_result"
    }
   ],
   "source": [
    "df = pd.read_csv(r'Premier League Player Stats.csv')\n",
    "df.head(5)"
   ]
  },
  {
   "cell_type": "code",
   "execution_count": 4,
   "metadata": {
    "colab": {
     "base_uri": "https://localhost:8080/"
    },
    "executionInfo": {
     "elapsed": 330,
     "status": "ok",
     "timestamp": 1724729079654,
     "user": {
      "displayName": "Hassan Nfissi",
      "userId": "14480210957196573271"
     },
     "user_tz": -60
    },
    "id": "5AzN6lMn-InZ",
    "outputId": "1f8ab2fb-2560-4b34-dd56-1b198020799c"
   },
   "outputs": [
    {
     "data": {
      "text/plain": [
       "array(['Leicester City', 'Southampton', 'Arsenal', 'Manchester City',\n",
       "       'Liverpool', 'Tottenham Hotspur', 'Wolverhampton Wanderers',\n",
       "       'Manchester United', 'Chelsea', 'Burnley', 'Everton',\n",
       "       'Norwich City', 'West Ham United', 'Brighton and Hove Albion',\n",
       "       'Watford', 'Crystal Palace', 'Bournemouth', 'Aston Villa',\n",
       "       'Sheffield United', 'Newcastle United'], dtype=object)"
      ]
     },
     "execution_count": 4,
     "metadata": {},
     "output_type": "execute_result"
    }
   ],
   "source": [
    "\n",
    "df[\"TEAM\"].unique()"
   ]
  },
  {
   "cell_type": "markdown",
   "metadata": {
    "id": "Sci-eCzJ-WQ8"
   },
   "source": [
    "Get some informations about the columns"
   ]
  },
  {
   "cell_type": "code",
   "execution_count": 5,
   "metadata": {
    "colab": {
     "base_uri": "https://localhost:8080/"
    },
    "executionInfo": {
     "elapsed": 440,
     "status": "ok",
     "timestamp": 1724712775965,
     "user": {
      "displayName": "Hassan Nfissi",
      "userId": "14480210957196573271"
     },
     "user_tz": -60
    },
    "id": "IplB-hl6-VEL",
    "outputId": "17e04f24-614a-48e6-db97-cbca0d18fb58"
   },
   "outputs": [
    {
     "name": "stdout",
     "output_type": "stream",
     "text": [
      "<class 'pandas.core.frame.DataFrame'>\n",
      "RangeIndex: 540 entries, 0 to 539\n",
      "Data columns (total 10 columns):\n",
      " #   Column  Non-Null Count  Dtype \n",
      "---  ------  --------------  ----- \n",
      " 0   Rank    540 non-null    int64 \n",
      " 1   PLAYER  540 non-null    object\n",
      " 2   TEAM    540 non-null    object\n",
      " 3   GP      540 non-null    int64 \n",
      " 4   GS      540 non-null    int64 \n",
      " 5   MIN     540 non-null    int64 \n",
      " 6   G       540 non-null    int64 \n",
      " 7   ASST    540 non-null    int64 \n",
      " 8   SHOTS   540 non-null    int64 \n",
      " 9   SOG     540 non-null    int64 \n",
      "dtypes: int64(8), object(2)\n",
      "memory usage: 42.3+ KB\n"
     ]
    }
   ],
   "source": [
    "df.info()"
   ]
  },
  {
   "cell_type": "code",
   "execution_count": 6,
   "metadata": {
    "colab": {
     "base_uri": "https://localhost:8080/",
     "height": 397
    },
    "executionInfo": {
     "elapsed": 493,
     "status": "ok",
     "timestamp": 1724712779688,
     "user": {
      "displayName": "Hassan Nfissi",
      "userId": "14480210957196573271"
     },
     "user_tz": -60
    },
    "id": "OSg6yddz_Fu-",
    "outputId": "c57cf824-f75e-4de0-8a65-3ec82baa803f"
   },
   "outputs": [
    {
     "data": {
      "text/plain": [
       "Rank      0\n",
       "PLAYER    0\n",
       "TEAM      0\n",
       "GP        0\n",
       "GS        0\n",
       "MIN       0\n",
       "G         0\n",
       "ASST      0\n",
       "SHOTS     0\n",
       "SOG       0\n",
       "dtype: int64"
      ]
     },
     "execution_count": 6,
     "metadata": {},
     "output_type": "execute_result"
    }
   ],
   "source": [
    "df.isnull().sum()"
   ]
  },
  {
   "cell_type": "markdown",
   "metadata": {
    "id": "ogMXLJmgCXMg"
   },
   "source": [
    "Create a dictionary that contains the team as the key and a list containing the players of that team as the value"
   ]
  },
  {
   "cell_type": "code",
   "execution_count": 7,
   "metadata": {
    "colab": {
     "base_uri": "https://localhost:8080/"
    },
    "executionInfo": {
     "elapsed": 1358,
     "status": "ok",
     "timestamp": 1724730028507,
     "user": {
      "displayName": "Hassan Nfissi",
      "userId": "14480210957196573271"
     },
     "user_tz": -60
    },
    "id": "2Z9YQe95_M3X",
    "outputId": "6cabe343-1627-40c7-ea8c-919d48cd80e0"
   },
   "outputs": [
    {
     "data": {
      "text/plain": [
       "{'Leicester City': ['Jamie Vardy',\n",
       "  'Ayoze Pérez',\n",
       "  'Harvey Barnes',\n",
       "  'James Maddison',\n",
       "  'Kelechi Iheanacho',\n",
       "  'Ricardo Domingos Barbosa Pereira',\n",
       "  'Ben Chilwell',\n",
       "  'Youri Tielemans',\n",
       "  'Onyinye Wilfred Ndidi',\n",
       "  'Demarai Gray',\n",
       "  'Hamza Choudhury',\n",
       "  'Jonny Evans',\n",
       "  'Dennis Praet',\n",
       "  'Çağlar Söyüncü',\n",
       "  'Marc Albrighton',\n",
       "  'Ryan Bennett',\n",
       "  'James Justin',\n",
       "  'Wes Morgan',\n",
       "  'Kasper Schmeichel',\n",
       "  'Danny Ward',\n",
       "  'Christian Fuchs',\n",
       "  'Nampalys Mendy',\n",
       "  'Matty James',\n",
       "  'Darnell Johnson'],\n",
       " 'Southampton': ['Danny Ings',\n",
       "  'James Ward-Prowse',\n",
       "  'Stuart Armstrong',\n",
       "  'Che Adams',\n",
       "  'Nathan Redmond',\n",
       "  'Michael Obafemi',\n",
       "  'Moussa Djenepo',\n",
       "  'Shane Long',\n",
       "  'Jan Bednarek',\n",
       "  'Ryan Bertrand',\n",
       "  'Jack Stephens',\n",
       "  'Jannik Vestergaard',\n",
       "  'Sofiane Boufal',\n",
       "  'Angus Gunn',\n",
       "  'Pierre-Emile Højbjerg',\n",
       "  'Alex McCarthy',\n",
       "  'Oriol Romeu',\n",
       "  'Yan Valery',\n",
       "  'Kyle Walker-Peters',\n",
       "  'Kevin Danso',\n",
       "  'Fraser Forster',\n",
       "  \"Daniel N'Lundulu\",\n",
       "  'Harry Lewis',\n",
       "  'William Smallbone',\n",
       "  'Nathan Tella',\n",
       "  'Jake Vokins',\n",
       "  'Alexandre Jankewitz'],\n",
       " 'Arsenal': ['Pierre-Emerick Aubameyang',\n",
       "  'Alexandre Lacazette',\n",
       "  'Nicolas Pépé',\n",
       "  'Gabriel Teodoro Martinelli Silva',\n",
       "  'David Luiz Moreira Marinho',\n",
       "  'Sokratis Papastathopoulos',\n",
       "  'Eddie Nketiah',\n",
       "  'Cédric Ricardo Alves Soares',\n",
       "  'Reiss Nelson',\n",
       "  'Granit Xhaka',\n",
       "  'Calum Chambers',\n",
       "  'Lucas Torreira',\n",
       "  'Joseph Willock',\n",
       "  'Mesut Özil',\n",
       "  'Bukayo Saka',\n",
       "  'Kieran Tierney',\n",
       "  'Héctor Bellerín',\n",
       "  'Ainsley Maitland-Niles',\n",
       "  'Dani Ceballos',\n",
       "  'Mattéo Guendouzi Olié',\n",
       "  'Bernd Leno',\n",
       "  'Emiliano Martínez',\n",
       "  'Sead Kolašinac',\n",
       "  'Rob Holding',\n",
       "  'Shkodran Mustafi',\n",
       "  'Tyreece John-Jules',\n",
       "  'Pablo Marí',\n",
       "  'Zech Medley',\n",
       "  'Matt Macey',\n",
       "  'Matthew Smith'],\n",
       " 'Manchester City': ['Raheem Shaquille Sterling',\n",
       "  'Sergio Leonel Agüero del Castillo',\n",
       "  'Gabriel Fernando de Jesus',\n",
       "  'Kevin De Bruyne',\n",
       "  'Riyad Mahrez',\n",
       "  'David Silva',\n",
       "  'Bernardo Mota Veiga de Carvalho e Silva',\n",
       "  'Phil Foden',\n",
       "  'Rodrigo Hernández Cascante',\n",
       "  'İlkay Gündoğan',\n",
       "  'Nicolás Hernán Otamendi',\n",
       "  'Kyle Walker',\n",
       "  'Aymeric Laporte',\n",
       "  'Claudio Andrés Bravo Muñoz',\n",
       "  'João Pedro Cavaco Cancelo',\n",
       "  'Ederson Santana de Moraes',\n",
       "  'John Stones',\n",
       "  'Oleksandr Zinchenko',\n",
       "  'Fernando Luiz Rosa',\n",
       "  'Eric García',\n",
       "  'Benjamin Mendy',\n",
       "  'Scott Carson',\n",
       "  'Tommy Doyle',\n",
       "  'Taylor Harwood-Bellis',\n",
       "  'Cole Palmer'],\n",
       " 'Liverpool': ['Mohamed Salah Ghaly',\n",
       "  'Sadio Mané',\n",
       "  'Roberto Firmino Barbosa de Oliveira',\n",
       "  'Virgil van Dijk',\n",
       "  'Divock Okoth Origi',\n",
       "  'Trent Alexander-Arnold',\n",
       "  'Jordan Henderson',\n",
       "  'Alex Oxlade-Chamberlain',\n",
       "  'Georginio Wijnaldum',\n",
       "  'Naby Deco Keïta',\n",
       "  'James Milner',\n",
       "  'Andrew Robertson',\n",
       "  'Fábio Henrique Tavares',\n",
       "  'Joel Matip',\n",
       "  'Xherdan Shaqiri',\n",
       "  'Adam Lallana',\n",
       "  'Curtis Jones',\n",
       "  'Joseph Gomez',\n",
       "  'Alisson Ramses Becker',\n",
       "  'Adrián San Miguel del Castillo',\n",
       "  'Andy Lonergan',\n",
       "  'Caoimhin Kelleher',\n",
       "  'Dejan Lovren',\n",
       "  'Harvey Elliott',\n",
       "  'Neco Williams',\n",
       "  'Nathaniel Phillips',\n",
       "  'Takumi Minamino',\n",
       "  'Ki-Jana Hoever'],\n",
       " 'Tottenham Hotspur': ['Harry Kane',\n",
       "  'Heung-Min Son',\n",
       "  'Bamidele Alli',\n",
       "  'Lucas Rodrigues Moura da Silva',\n",
       "  'Steven Bergwijn',\n",
       "  'Tanguy Ndombèlé Alvaro',\n",
       "  'Erik Lamela',\n",
       "  'Moussa Sissoko',\n",
       "  'Toby Alderweireld',\n",
       "  'Serge Aurier',\n",
       "  'Jan Vertonghen',\n",
       "  'Eric Dier',\n",
       "  'Paulo Gazzaniga',\n",
       "  'Hugo Lloris',\n",
       "  'Oliver Skipp',\n",
       "  'Davinson Sánchez Mina',\n",
       "  'Harry Winks',\n",
       "  'Ben Davies',\n",
       "  'Alfie Whiteman',\n",
       "  'Juan Foyth',\n",
       "  'Brandon Austin',\n",
       "  'Troy Parrott',\n",
       "  'Kouassi Ryan Sessegnon',\n",
       "  'Michel Vorm',\n",
       "  'Japhet Tanganga',\n",
       "  'Gedson Carvalho Fernandes',\n",
       "  'Harvey White',\n",
       "  'Dennis Cirkin'],\n",
       " 'Wolverhampton Wanderers': ['Raúl Alonso Jiménez Rodríguez',\n",
       "  'Diogo José Teixeira da Silva',\n",
       "  'Leander Dendoncker',\n",
       "  'Matt Doherty',\n",
       "  'Adama Traoré',\n",
       "  'Pedro Lomba Neto',\n",
       "  'Jonathan Castro Otto',\n",
       "  'Rúben Diogo da Silva Neves',\n",
       "  'Romain Saïss',\n",
       "  'João Filipe Iria Santos Moutinho',\n",
       "  'Daniel Castelo Podence',\n",
       "  'Willy Boly',\n",
       "  'Conor Coady',\n",
       "  'Morgan Gibbs-White',\n",
       "  'John Ruddy',\n",
       "  'Rúben Gonçalo Silva Nascimento Vinagre',\n",
       "  'Rui Pedro dos Santos Patrício',\n",
       "  'Maximilian Kilman',\n",
       "  'Taylor Perry',\n",
       "  'Luke Cundle',\n",
       "  'Owen Otasowie',\n",
       "  'Oskar Buur',\n",
       "  'Bruno André Cavaco Jordão',\n",
       "  'Leonardo Campana'],\n",
       " 'Manchester United': ['Marcus Rashford',\n",
       "  'Anthony Martial',\n",
       "  'Mason Greenwood',\n",
       "  'Bruno Miguel Borges Fernandes',\n",
       "  'Scott McTominay',\n",
       "  'Daniel James',\n",
       "  'Jesse Lingard',\n",
       "  'Andreas Hugo Hoelgebaum Pereira',\n",
       "  'Paul Pogba',\n",
       "  'Victor Lindelöf',\n",
       "  'Harry Maguire',\n",
       "  'Brandon Williams',\n",
       "  'Juan Mata',\n",
       "  'Nemanja Matic',\n",
       "  'Sergio Romero',\n",
       "  'Luke Shaw',\n",
       "  'Axel Tuanzebe',\n",
       "  'Aaron Wan-Bissaka',\n",
       "  'David de Gea Quintana',\n",
       "  'Tahith Chong',\n",
       "  'Marcos Rojo',\n",
       "  'Phil Jones',\n",
       "  'Frederico Rodrigues de Paula Santos',\n",
       "  'José Diogo Dalot Teixeira',\n",
       "  'James Garner',\n",
       "  'Lee Grant',\n",
       "  'Eric Bailly',\n",
       "  'Odion Ighalo',\n",
       "  'Timothy Fosu-Mensah'],\n",
       " 'Chelsea': ['Tammy Bakumo-Abraham',\n",
       "  'Christian Pulisic',\n",
       "  'Willian Borges Da Silva',\n",
       "  'Olivier Giroud',\n",
       "  'Mason Mount',\n",
       "  'Jorge Luiz Frello Filho',\n",
       "  'Marcos Alonso',\n",
       "  \"N'Golo Kanté\",\n",
       "  'César Azpilicueta',\n",
       "  'Antonio Rüdiger',\n",
       "  'Ross Barkley',\n",
       "  'Mateo Kovačić',\n",
       "  'Pedro Rodríguez Ledesma',\n",
       "  'Fikayo Tomori',\n",
       "  'Michy Batshuayi Tunga',\n",
       "  'Callum Hudson-Odoi',\n",
       "  'Kurt Happy Zouma',\n",
       "  'Kepa Arrizabalaga Revuelta',\n",
       "  'Willy Caballero',\n",
       "  'Andreas Christensen',\n",
       "  'Robert Kenedy Nunes do Nascimento',\n",
       "  'Emerson Palmieri dos Santos',\n",
       "  'Billy Gilmour',\n",
       "  'Reece James',\n",
       "  'Ruben Loftus-Cheek',\n",
       "  'Faustino Anjorin',\n",
       "  'Armando Broja'],\n",
       " 'Burnley': ['Chris Wood',\n",
       "  'Jay Rodriguez',\n",
       "  'Ashley Barnes',\n",
       "  'Dwight McNeil',\n",
       "  'James Tarkowski',\n",
       "  'Ashley Westwood',\n",
       "  'Matej Vydra',\n",
       "  'Jóhann Gudmundsson',\n",
       "  'Ben Mee',\n",
       "  'Robbie Brady',\n",
       "  'Erik Pieters',\n",
       "  'Phil Bardsley',\n",
       "  'Jack Cork',\n",
       "  'Ben Gibson',\n",
       "  'Kevin Long',\n",
       "  'Matthew Lowton',\n",
       "  'Nick Pope',\n",
       "  'Charlie Taylor',\n",
       "  'Anthony Driscoll-Glennon',\n",
       "  'Mace Goodridge',\n",
       "  'Abd-Al-Ali Morakinyo Olaposi Koiki',\n",
       "  'Josh Brownhill',\n",
       "  'Jimmy Dunne',\n",
       "  'Lukas Jensen',\n",
       "  'Bailey Peacock-Farrell',\n",
       "  'Bobby Thomas',\n",
       "  'Max Thompson',\n",
       "  'Josh Benson'],\n",
       " 'Everton': ['Dominic Calvert-Lewin',\n",
       "  'Richarlison de Andrade',\n",
       "  'Bernard Anício Caldeira Duarte',\n",
       "  'Moise Kean',\n",
       "  'Michael Keane',\n",
       "  'Yerry Fernando Mina González',\n",
       "  'Gylfi Sigurdsson',\n",
       "  'Cenk Tosun',\n",
       "  'Theo Walcott',\n",
       "  'Tom Davies',\n",
       "  'Alex Iwobi',\n",
       "  'Séamus Coleman',\n",
       "  'Lucas Digne',\n",
       "  'Jean-Philippe Gbamin',\n",
       "  'Mason Holgate',\n",
       "  'Jordan Pickford',\n",
       "  'André Filipe Tavares Gomes',\n",
       "  'Djibril Sidibé',\n",
       "  'Maarten Stekelenburg',\n",
       "  'Fabian Delph',\n",
       "  'Leighton Baines',\n",
       "  'Beni Baningime',\n",
       "  'Anthony Gordon',\n",
       "  'João Manuel Neves Virgínia',\n",
       "  'Jarrad Branthwaite'],\n",
       " 'Norwich City': ['Teemu Pukki',\n",
       "  'Todd Cantwell',\n",
       "  'Emiliano Buendía',\n",
       "  'Josip Drmic',\n",
       "  'Onel Hernández',\n",
       "  'Jamal Lewis',\n",
       "  'Kenny McLean',\n",
       "  'Mario Vrancic',\n",
       "  'Alexander Tettey',\n",
       "  'Moritz Leitner',\n",
       "  'Max Aarons',\n",
       "  'Sam Byram',\n",
       "  'Ralf Fährmann',\n",
       "  'Ben Godfrey',\n",
       "  'Grant Hanley',\n",
       "  'Tim Krul',\n",
       "  'Marco Stiepermann',\n",
       "  'Tom Trybull',\n",
       "  'Timm Klose',\n",
       "  'Christoph Zimmermann',\n",
       "  'Philip Heise',\n",
       "  'Adam Idah',\n",
       "  'Michael McGovern',\n",
       "  'Akin Famewo',\n",
       "  'Archie Mair',\n",
       "  'Lukas Rupp',\n",
       "  'Josh Martin',\n",
       "  'Jordan Thomas'],\n",
       " 'West Ham United': ['Michail Antonio',\n",
       "  'Sébastien Haller',\n",
       "  'Robert Snodgrass',\n",
       "  'Andrii Yarmolenko',\n",
       "  'Mark Noble',\n",
       "  'Aaron Cresswell',\n",
       "  'Issa Diop',\n",
       "  'Tomáš Souček',\n",
       "  'Pablo Fornals',\n",
       "  'Angelo Ogbonna',\n",
       "  'Fabián Cornelio Balbuena González',\n",
       "  'Felipe Anderson Pereira Gomes',\n",
       "  'Declan Rice',\n",
       "  'Jarrod Bowen',\n",
       "  'Lukasz Fabianski',\n",
       "  'Ryan Fredericks',\n",
       "  'Manuel Lanzini',\n",
       "  'Jack Wilshere',\n",
       "  'Arthur Masuaku',\n",
       "  'Albian Ajeti',\n",
       "  'David Martin',\n",
       "  'Nathan Holland',\n",
       "  'Joseph Anang',\n",
       "  'Bernardo Costa Da Rosa',\n",
       "  'Gonçalo Bento Soares Cardoso',\n",
       "  'Darren Randolph',\n",
       "  'Alexandre Nascimento Costa Silva',\n",
       "  'Ben Johnson',\n",
       "  'Alfie Lewis',\n",
       "  'Conor Coventry'],\n",
       " 'Brighton and Hove Albion': ['Neal Maupay',\n",
       "  'Leandro Trossard',\n",
       "  'Lewis Dunk',\n",
       "  'Adam Webster',\n",
       "  'Aaron Anthony Connolly',\n",
       "  'Pascal Groß',\n",
       "  'Alireza Jahanbakhsh',\n",
       "  'Davy Pröpper',\n",
       "  'Shane Duffy',\n",
       "  'Glenn Murray',\n",
       "  'Yves Bissouma',\n",
       "  'Dan Burn',\n",
       "  'David Button',\n",
       "  'Bernardo Fernandes da Silva Junior',\n",
       "  'Solly March',\n",
       "  'Martín Montoya',\n",
       "  'Mathew Ryan',\n",
       "  'Dale Stephens',\n",
       "  'Steven Alzate',\n",
       "  'Tudor Cristian Băluţă',\n",
       "  'Ezequiel Schelotto',\n",
       "  'Tariq Lamptey',\n",
       "  'Alexis Mac Allister',\n",
       "  'Alex Cochrane'],\n",
       " 'Watford': ['Troy Deeney',\n",
       "  'Ismaïla Sarr',\n",
       "  'Gerard Deulofeu',\n",
       "  'Abdoulaye Doucouré',\n",
       "  'Roberto Maximiliano Pereyra',\n",
       "  'Craig Dawson',\n",
       "  'Andre Gray',\n",
       "  'Danny Welbeck',\n",
       "  'Tom Cleverley',\n",
       "  'Will Hughes',\n",
       "  'Adam Masina',\n",
       "  'Etienne Capoue',\n",
       "  'Craig Cathcart',\n",
       "  'Francisco Femenía Far',\n",
       "  'Ben Foster',\n",
       "  'José Holebas',\n",
       "  'Daryl Janmaat',\n",
       "  'Christian Kabasele',\n",
       "  'Isaac Success Ajayi',\n",
       "  'Heurelho da Silva Gomes',\n",
       "  'Domingos Quina',\n",
       "  'Nathaniel Chalobah',\n",
       "  'Dimitri Foulquier',\n",
       "  'Adrian Mariappa',\n",
       "  'Ayotomiwa Dele-Bashiru',\n",
       "  'Ignacio Pussetto',\n",
       "  'João Pedro Junqueira de Jesus',\n",
       "  'Adalberto Peñaranda'],\n",
       " 'Crystal Palace': ['Jordan Ayew',\n",
       "  'Wilfried Zaha',\n",
       "  'Luka Milivojević',\n",
       "  'Patrick van Aanholt',\n",
       "  'Jeffrey Schlupp',\n",
       "  'Christian Benteke Liolo',\n",
       "  'Cheikhou Kouyaté',\n",
       "  'Andros Townsend',\n",
       "  'James Tomkins',\n",
       "  'Max Meyer',\n",
       "  'Gary Cahill',\n",
       "  'Scott Dann',\n",
       "  'Vicente Guaita',\n",
       "  'Wayne Hennessey',\n",
       "  'Martin Kelly',\n",
       "  'James McArthur',\n",
       "  'James McCarthy',\n",
       "  'Joel Ward',\n",
       "  'Mamadou Sakho',\n",
       "  'Jairo Riedewald',\n",
       "  'Stephen Henderson',\n",
       "  'Tyrick Mitchell',\n",
       "  'Sam Woods',\n",
       "  'Brandon Pierrick',\n",
       "  'Nya Kirby',\n",
       "  'Giovanni McGregor',\n",
       "  'Nikola Tavares'],\n",
       " 'Bournemouth': ['Callum Wilson',\n",
       "  'Harry Wilson',\n",
       "  'Joshua King',\n",
       "  'Dominic Solanke',\n",
       "  'Dan Gosling',\n",
       "  'Junior Stanislas',\n",
       "  'Nathan Aké',\n",
       "  'Chris Mepham',\n",
       "  'Philip Billing',\n",
       "  'Steve Cook',\n",
       "  'Jefferson Andrés Lerma Solís',\n",
       "  'David Brooks',\n",
       "  'Adam Smith',\n",
       "  'Artur Boruc',\n",
       "  'Charlie Daniels',\n",
       "  'Aaron Ramsdale',\n",
       "  'Diego Rico',\n",
       "  'Jack Simpson',\n",
       "  'Andrew Surman',\n",
       "  'Jack Stacey',\n",
       "  'Lewis Cook',\n",
       "  'Arnaut Danjuma Groeneveld',\n",
       "  'Simon Francis',\n",
       "  'Lloyd Kelly',\n",
       "  'Gavin Kilkenny',\n",
       "  'Christian Saydee',\n",
       "  'Sam Surridge',\n",
       "  'Mark Travers'],\n",
       " 'Aston Villa': ['Jack Grealish',\n",
       "  'Mahmoud Ahmed Ibrahim Hassan',\n",
       "  'Wesley Moraes Ferreira da Silva',\n",
       "  'Anwar El Ghazi',\n",
       "  'John McGinn',\n",
       "  'Conor Hourihane',\n",
       "  'Douglas Luiz Soares de Paulo',\n",
       "  'Tyrone Mings',\n",
       "  'Ahmed Eissa El Mohamady Abdel Fattah',\n",
       "  'Björn Engels',\n",
       "  'Ezri Konsa Ngoyo',\n",
       "  'Matt Targett',\n",
       "  'Kortney Hause',\n",
       "  'Mbwana Ally Samatta',\n",
       "  'Tom Heaton',\n",
       "  'Henri Lansbury',\n",
       "  'José Ignacio Peleteiro Ramallo',\n",
       "  'Jed Steer',\n",
       "  'Neil Taylor',\n",
       "  'Keinan Davis',\n",
       "  'Frédéric Guilbert',\n",
       "  'Daniel Drinkwater',\n",
       "  'Marvelous Nakamba',\n",
       "  'Ørjan Håskjold Nyland',\n",
       "  'Lovre Kalinić',\n",
       "  'Indiana Vassilev',\n",
       "  'José Reina'],\n",
       " 'Sheffield United': ['Oliver McBurnie',\n",
       "  'Lys Mousset',\n",
       "  'John Fleck',\n",
       "  'John Lundstram',\n",
       "  'Billy Sharp',\n",
       "  'George Baldock',\n",
       "  'John Egan',\n",
       "  'David McGoldrick',\n",
       "  'Enda Stevens',\n",
       "  'Oliver Norwood',\n",
       "  'Sander Berge',\n",
       "  'Chris Basham',\n",
       "  'Luke Freeman',\n",
       "  'Dean Henderson',\n",
       "  'Phil Jagielka',\n",
       "  'Simon Moore',\n",
       "  \"Jack O'Connell\",\n",
       "  'Ben Osborn',\n",
       "  'Kieron Freeman',\n",
       "  'Leon Clarke',\n",
       "  'Michael Verrips',\n",
       "  'Jake Eastwood',\n",
       "  'Jack Robinson',\n",
       "  'Jack Rodwell',\n",
       "  'Richairo Zivkovic'],\n",
       " 'Newcastle United': ['Jonjo Shelvey',\n",
       "  'Miguel Ángel Almirón Rejala',\n",
       "  'Dwight Gayle',\n",
       "  'Allan Saint-Maximin',\n",
       "  'Joelinton Cássio Apolinário de Lira',\n",
       "  'Ciaran Clark',\n",
       "  'Federico Fernández',\n",
       "  'Matt Ritchie',\n",
       "  'Fabian Schär',\n",
       "  'Matthew Longstaff',\n",
       "  'Florian Lejeune',\n",
       "  'Isaac Hayden',\n",
       "  'Jamaal Lascelles',\n",
       "  'Sean Longstaff',\n",
       "  'DeAndre Yedlin',\n",
       "  'Valentino Lazaro',\n",
       "  'Danny Rose',\n",
       "  'Karl Darlow',\n",
       "  'Martin Dúbravka',\n",
       "  'Paul Dummett',\n",
       "  'Emil Krafth',\n",
       "  'Javier Manquillo',\n",
       "  'Yoshinori Muto',\n",
       "  'Christian Atsu',\n",
       "  'Andy Carroll',\n",
       "  'Thomas Allan',\n",
       "  'Kelland Watts',\n",
       "  'Nabil Bentaleb']}"
      ]
     },
     "execution_count": 7,
     "metadata": {},
     "output_type": "execute_result"
    }
   ],
   "source": [
    "dict_players={}\n",
    "\n",
    "import json\n",
    "for team in df[\"TEAM\"].unique():\n",
    "  player=df[\"PLAYER\"][df[\"TEAM\"]==team].values.tolist()\n",
    "  dict_players[team]=player\n",
    "dict_players"
   ]
  },
  {
   "cell_type": "markdown",
   "metadata": {
    "id": "VUtuIa2CGaEq"
   },
   "source": [
    "Drop player column because we don't need it for our training"
   ]
  },
  {
   "cell_type": "code",
   "execution_count": 8,
   "metadata": {
    "colab": {
     "base_uri": "https://localhost:8080/",
     "height": 423
    },
    "executionInfo": {
     "elapsed": 391,
     "status": "ok",
     "timestamp": 1724721297234,
     "user": {
      "displayName": "Hassan Nfissi",
      "userId": "14480210957196573271"
     },
     "user_tz": -60
    },
    "id": "sPWjHqvzFzPX",
    "outputId": "3e1d3228-4960-4517-cd95-97d16f50a93d"
   },
   "outputs": [
    {
     "data": {
      "text/html": [
       "<div>\n",
       "<style scoped>\n",
       "    .dataframe tbody tr th:only-of-type {\n",
       "        vertical-align: middle;\n",
       "    }\n",
       "\n",
       "    .dataframe tbody tr th {\n",
       "        vertical-align: top;\n",
       "    }\n",
       "\n",
       "    .dataframe thead th {\n",
       "        text-align: right;\n",
       "    }\n",
       "</style>\n",
       "<table border=\"1\" class=\"dataframe\">\n",
       "  <thead>\n",
       "    <tr style=\"text-align: right;\">\n",
       "      <th></th>\n",
       "      <th>Rank</th>\n",
       "      <th>TEAM</th>\n",
       "      <th>GP</th>\n",
       "      <th>GS</th>\n",
       "      <th>MIN</th>\n",
       "      <th>G</th>\n",
       "      <th>ASST</th>\n",
       "      <th>SHOTS</th>\n",
       "      <th>SOG</th>\n",
       "    </tr>\n",
       "  </thead>\n",
       "  <tbody>\n",
       "    <tr>\n",
       "      <th>0</th>\n",
       "      <td>1</td>\n",
       "      <td>Leicester City</td>\n",
       "      <td>35</td>\n",
       "      <td>34</td>\n",
       "      <td>3034</td>\n",
       "      <td>23</td>\n",
       "      <td>5</td>\n",
       "      <td>71</td>\n",
       "      <td>43</td>\n",
       "    </tr>\n",
       "    <tr>\n",
       "      <th>1</th>\n",
       "      <td>2</td>\n",
       "      <td>Southampton</td>\n",
       "      <td>38</td>\n",
       "      <td>32</td>\n",
       "      <td>2812</td>\n",
       "      <td>22</td>\n",
       "      <td>2</td>\n",
       "      <td>66</td>\n",
       "      <td>38</td>\n",
       "    </tr>\n",
       "    <tr>\n",
       "      <th>2</th>\n",
       "      <td>3</td>\n",
       "      <td>Arsenal</td>\n",
       "      <td>36</td>\n",
       "      <td>35</td>\n",
       "      <td>3138</td>\n",
       "      <td>22</td>\n",
       "      <td>3</td>\n",
       "      <td>70</td>\n",
       "      <td>42</td>\n",
       "    </tr>\n",
       "    <tr>\n",
       "      <th>3</th>\n",
       "      <td>4</td>\n",
       "      <td>Manchester City</td>\n",
       "      <td>33</td>\n",
       "      <td>30</td>\n",
       "      <td>2660</td>\n",
       "      <td>20</td>\n",
       "      <td>1</td>\n",
       "      <td>68</td>\n",
       "      <td>38</td>\n",
       "    </tr>\n",
       "    <tr>\n",
       "      <th>4</th>\n",
       "      <td>5</td>\n",
       "      <td>Liverpool</td>\n",
       "      <td>34</td>\n",
       "      <td>33</td>\n",
       "      <td>2884</td>\n",
       "      <td>19</td>\n",
       "      <td>10</td>\n",
       "      <td>95</td>\n",
       "      <td>59</td>\n",
       "    </tr>\n",
       "    <tr>\n",
       "      <th>...</th>\n",
       "      <td>...</td>\n",
       "      <td>...</td>\n",
       "      <td>...</td>\n",
       "      <td>...</td>\n",
       "      <td>...</td>\n",
       "      <td>...</td>\n",
       "      <td>...</td>\n",
       "      <td>...</td>\n",
       "      <td>...</td>\n",
       "    </tr>\n",
       "    <tr>\n",
       "      <th>535</th>\n",
       "      <td>536</td>\n",
       "      <td>Tottenham Hotspur</td>\n",
       "      <td>0</td>\n",
       "      <td>0</td>\n",
       "      <td>0</td>\n",
       "      <td>0</td>\n",
       "      <td>0</td>\n",
       "      <td>0</td>\n",
       "      <td>0</td>\n",
       "    </tr>\n",
       "    <tr>\n",
       "      <th>536</th>\n",
       "      <td>537</td>\n",
       "      <td>Leicester City</td>\n",
       "      <td>0</td>\n",
       "      <td>0</td>\n",
       "      <td>0</td>\n",
       "      <td>0</td>\n",
       "      <td>0</td>\n",
       "      <td>0</td>\n",
       "      <td>0</td>\n",
       "    </tr>\n",
       "    <tr>\n",
       "      <th>537</th>\n",
       "      <td>538</td>\n",
       "      <td>Manchester United</td>\n",
       "      <td>3</td>\n",
       "      <td>2</td>\n",
       "      <td>136</td>\n",
       "      <td>0</td>\n",
       "      <td>0</td>\n",
       "      <td>1</td>\n",
       "      <td>0</td>\n",
       "    </tr>\n",
       "    <tr>\n",
       "      <th>538</th>\n",
       "      <td>539</td>\n",
       "      <td>West Ham United</td>\n",
       "      <td>0</td>\n",
       "      <td>0</td>\n",
       "      <td>0</td>\n",
       "      <td>0</td>\n",
       "      <td>0</td>\n",
       "      <td>0</td>\n",
       "      <td>0</td>\n",
       "    </tr>\n",
       "    <tr>\n",
       "      <th>539</th>\n",
       "      <td>540</td>\n",
       "      <td>Brighton and Hove Albion</td>\n",
       "      <td>0</td>\n",
       "      <td>0</td>\n",
       "      <td>0</td>\n",
       "      <td>0</td>\n",
       "      <td>0</td>\n",
       "      <td>0</td>\n",
       "      <td>0</td>\n",
       "    </tr>\n",
       "  </tbody>\n",
       "</table>\n",
       "<p>540 rows × 9 columns</p>\n",
       "</div>"
      ],
      "text/plain": [
       "     Rank                      TEAM  GP  GS   MIN   G  ASST  SHOTS  SOG\n",
       "0       1            Leicester City  35  34  3034  23     5     71   43\n",
       "1       2               Southampton  38  32  2812  22     2     66   38\n",
       "2       3                   Arsenal  36  35  3138  22     3     70   42\n",
       "3       4           Manchester City  33  30  2660  20     1     68   38\n",
       "4       5                 Liverpool  34  33  2884  19    10     95   59\n",
       "..    ...                       ...  ..  ..   ...  ..   ...    ...  ...\n",
       "535   536         Tottenham Hotspur   0   0     0   0     0      0    0\n",
       "536   537            Leicester City   0   0     0   0     0      0    0\n",
       "537   538         Manchester United   3   2   136   0     0      1    0\n",
       "538   539           West Ham United   0   0     0   0     0      0    0\n",
       "539   540  Brighton and Hove Albion   0   0     0   0     0      0    0\n",
       "\n",
       "[540 rows x 9 columns]"
      ]
     },
     "execution_count": 8,
     "metadata": {},
     "output_type": "execute_result"
    }
   ],
   "source": [
    "df1=df.drop(\"PLAYER\",axis=1)\n",
    "df1"
   ]
  },
  {
   "cell_type": "markdown",
   "metadata": {
    "id": "Nxkmu8Ha5O1a"
   },
   "source": [
    "Converting TEAM to numbers"
   ]
  },
  {
   "cell_type": "code",
   "execution_count": 9,
   "metadata": {
    "colab": {
     "base_uri": "https://localhost:8080/",
     "height": 423
    },
    "executionInfo": {
     "elapsed": 953,
     "status": "ok",
     "timestamp": 1724732218036,
     "user": {
      "displayName": "Hassan Nfissi",
      "userId": "14480210957196573271"
     },
     "user_tz": -60
    },
    "id": "PJq3x8Jk48sR",
    "outputId": "780b6ad7-d4f7-49fd-f705-5f2ab6c0c6d0"
   },
   "outputs": [
    {
     "data": {
      "text/html": [
       "<div>\n",
       "<style scoped>\n",
       "    .dataframe tbody tr th:only-of-type {\n",
       "        vertical-align: middle;\n",
       "    }\n",
       "\n",
       "    .dataframe tbody tr th {\n",
       "        vertical-align: top;\n",
       "    }\n",
       "\n",
       "    .dataframe thead th {\n",
       "        text-align: right;\n",
       "    }\n",
       "</style>\n",
       "<table border=\"1\" class=\"dataframe\">\n",
       "  <thead>\n",
       "    <tr style=\"text-align: right;\">\n",
       "      <th></th>\n",
       "      <th>Rank</th>\n",
       "      <th>TEAM</th>\n",
       "      <th>GP</th>\n",
       "      <th>GS</th>\n",
       "      <th>MIN</th>\n",
       "      <th>G</th>\n",
       "      <th>ASST</th>\n",
       "      <th>SHOTS</th>\n",
       "      <th>SOG</th>\n",
       "    </tr>\n",
       "  </thead>\n",
       "  <tbody>\n",
       "    <tr>\n",
       "      <th>0</th>\n",
       "      <td>1</td>\n",
       "      <td>8</td>\n",
       "      <td>35</td>\n",
       "      <td>34</td>\n",
       "      <td>3034</td>\n",
       "      <td>23</td>\n",
       "      <td>5</td>\n",
       "      <td>71</td>\n",
       "      <td>43</td>\n",
       "    </tr>\n",
       "    <tr>\n",
       "      <th>1</th>\n",
       "      <td>2</td>\n",
       "      <td>15</td>\n",
       "      <td>38</td>\n",
       "      <td>32</td>\n",
       "      <td>2812</td>\n",
       "      <td>22</td>\n",
       "      <td>2</td>\n",
       "      <td>66</td>\n",
       "      <td>38</td>\n",
       "    </tr>\n",
       "    <tr>\n",
       "      <th>2</th>\n",
       "      <td>3</td>\n",
       "      <td>0</td>\n",
       "      <td>36</td>\n",
       "      <td>35</td>\n",
       "      <td>3138</td>\n",
       "      <td>22</td>\n",
       "      <td>3</td>\n",
       "      <td>70</td>\n",
       "      <td>42</td>\n",
       "    </tr>\n",
       "    <tr>\n",
       "      <th>3</th>\n",
       "      <td>4</td>\n",
       "      <td>10</td>\n",
       "      <td>33</td>\n",
       "      <td>30</td>\n",
       "      <td>2660</td>\n",
       "      <td>20</td>\n",
       "      <td>1</td>\n",
       "      <td>68</td>\n",
       "      <td>38</td>\n",
       "    </tr>\n",
       "    <tr>\n",
       "      <th>4</th>\n",
       "      <td>5</td>\n",
       "      <td>9</td>\n",
       "      <td>34</td>\n",
       "      <td>33</td>\n",
       "      <td>2884</td>\n",
       "      <td>19</td>\n",
       "      <td>10</td>\n",
       "      <td>95</td>\n",
       "      <td>59</td>\n",
       "    </tr>\n",
       "    <tr>\n",
       "      <th>...</th>\n",
       "      <td>...</td>\n",
       "      <td>...</td>\n",
       "      <td>...</td>\n",
       "      <td>...</td>\n",
       "      <td>...</td>\n",
       "      <td>...</td>\n",
       "      <td>...</td>\n",
       "      <td>...</td>\n",
       "      <td>...</td>\n",
       "    </tr>\n",
       "    <tr>\n",
       "      <th>535</th>\n",
       "      <td>536</td>\n",
       "      <td>16</td>\n",
       "      <td>0</td>\n",
       "      <td>0</td>\n",
       "      <td>0</td>\n",
       "      <td>0</td>\n",
       "      <td>0</td>\n",
       "      <td>0</td>\n",
       "      <td>0</td>\n",
       "    </tr>\n",
       "    <tr>\n",
       "      <th>536</th>\n",
       "      <td>537</td>\n",
       "      <td>8</td>\n",
       "      <td>0</td>\n",
       "      <td>0</td>\n",
       "      <td>0</td>\n",
       "      <td>0</td>\n",
       "      <td>0</td>\n",
       "      <td>0</td>\n",
       "      <td>0</td>\n",
       "    </tr>\n",
       "    <tr>\n",
       "      <th>537</th>\n",
       "      <td>538</td>\n",
       "      <td>11</td>\n",
       "      <td>3</td>\n",
       "      <td>2</td>\n",
       "      <td>136</td>\n",
       "      <td>0</td>\n",
       "      <td>0</td>\n",
       "      <td>1</td>\n",
       "      <td>0</td>\n",
       "    </tr>\n",
       "    <tr>\n",
       "      <th>538</th>\n",
       "      <td>539</td>\n",
       "      <td>18</td>\n",
       "      <td>0</td>\n",
       "      <td>0</td>\n",
       "      <td>0</td>\n",
       "      <td>0</td>\n",
       "      <td>0</td>\n",
       "      <td>0</td>\n",
       "      <td>0</td>\n",
       "    </tr>\n",
       "    <tr>\n",
       "      <th>539</th>\n",
       "      <td>540</td>\n",
       "      <td>3</td>\n",
       "      <td>0</td>\n",
       "      <td>0</td>\n",
       "      <td>0</td>\n",
       "      <td>0</td>\n",
       "      <td>0</td>\n",
       "      <td>0</td>\n",
       "      <td>0</td>\n",
       "    </tr>\n",
       "  </tbody>\n",
       "</table>\n",
       "<p>540 rows × 9 columns</p>\n",
       "</div>"
      ],
      "text/plain": [
       "     Rank  TEAM  GP  GS   MIN   G  ASST  SHOTS  SOG\n",
       "0       1     8  35  34  3034  23     5     71   43\n",
       "1       2    15  38  32  2812  22     2     66   38\n",
       "2       3     0  36  35  3138  22     3     70   42\n",
       "3       4    10  33  30  2660  20     1     68   38\n",
       "4       5     9  34  33  2884  19    10     95   59\n",
       "..    ...   ...  ..  ..   ...  ..   ...    ...  ...\n",
       "535   536    16   0   0     0   0     0      0    0\n",
       "536   537     8   0   0     0   0     0      0    0\n",
       "537   538    11   3   2   136   0     0      1    0\n",
       "538   539    18   0   0     0   0     0      0    0\n",
       "539   540     3   0   0     0   0     0      0    0\n",
       "\n",
       "[540 rows x 9 columns]"
      ]
     },
     "execution_count": 9,
     "metadata": {},
     "output_type": "execute_result"
    }
   ],
   "source": [
    "from sklearn.preprocessing import LabelEncoder\n",
    "label={}\n",
    "label['TEAM']=LabelEncoder()\n",
    "df1[\"TEAM\"]=label['TEAM'].fit_transform(df1['TEAM'])\n",
    "df[\"TEAM_N\"]=label['TEAM'].fit_transform(df['TEAM'])\n",
    "df1"
   ]
  },
  {
   "cell_type": "code",
   "execution_count": 10,
   "metadata": {
    "colab": {
     "base_uri": "https://localhost:8080/",
     "height": 458
    },
    "executionInfo": {
     "elapsed": 450,
     "status": "ok",
     "timestamp": 1724713077689,
     "user": {
      "displayName": "Hassan Nfissi",
      "userId": "14480210957196573271"
     },
     "user_tz": -60
    },
    "id": "315Nc96v5vXe",
    "outputId": "7e12be27-2329-43eb-e168-a5d61163cda5"
   },
   "outputs": [
    {
     "data": {
      "text/plain": [
       "0        1\n",
       "1        2\n",
       "2        3\n",
       "3        4\n",
       "4        5\n",
       "      ... \n",
       "535    536\n",
       "536    537\n",
       "537    538\n",
       "538    539\n",
       "539    540\n",
       "Name: Rank, Length: 540, dtype: int64"
      ]
     },
     "execution_count": 10,
     "metadata": {},
     "output_type": "execute_result"
    }
   ],
   "source": [
    "X=df1.drop('Rank',axis=1)\n",
    "y=df1['Rank']\n",
    "y"
   ]
  },
  {
   "cell_type": "code",
   "execution_count": 44,
   "metadata": {
    "executionInfo": {
     "elapsed": 434,
     "status": "ok",
     "timestamp": 1724714451852,
     "user": {
      "displayName": "Hassan Nfissi",
      "userId": "14480210957196573271"
     },
     "user_tz": -60
    },
    "id": "1MiB00zg6Qe7"
   },
   "outputs": [],
   "source": [
    "from sklearn.model_selection import train_test_split\n",
    "X_train,X_test,y_train,y_test=train_test_split(X,y,test_size=0.2,random_state=0)"
   ]
  },
  {
   "cell_type": "markdown",
   "metadata": {
    "id": "-djnwzd17Cx4"
   },
   "source": [
    "Create a decision tree model"
   ]
  },
  {
   "cell_type": "code",
   "execution_count": 21,
   "metadata": {
    "colab": {
     "base_uri": "https://localhost:8080/",
     "height": 74
    },
    "executionInfo": {
     "elapsed": 451,
     "status": "ok",
     "timestamp": 1724713501682,
     "user": {
      "displayName": "Hassan Nfissi",
      "userId": "14480210957196573271"
     },
     "user_tz": -60
    },
    "id": "vmoXP7r26dm8",
    "outputId": "52239cbf-a379-4550-821a-ca9daf90be23"
   },
   "outputs": [
    {
     "data": {
      "text/html": [
       "<style>#sk-container-id-3 {color: black;}#sk-container-id-3 pre{padding: 0;}#sk-container-id-3 div.sk-toggleable {background-color: white;}#sk-container-id-3 label.sk-toggleable__label {cursor: pointer;display: block;width: 100%;margin-bottom: 0;padding: 0.3em;box-sizing: border-box;text-align: center;}#sk-container-id-3 label.sk-toggleable__label-arrow:before {content: \"▸\";float: left;margin-right: 0.25em;color: #696969;}#sk-container-id-3 label.sk-toggleable__label-arrow:hover:before {color: black;}#sk-container-id-3 div.sk-estimator:hover label.sk-toggleable__label-arrow:before {color: black;}#sk-container-id-3 div.sk-toggleable__content {max-height: 0;max-width: 0;overflow: hidden;text-align: left;background-color: #f0f8ff;}#sk-container-id-3 div.sk-toggleable__content pre {margin: 0.2em;color: black;border-radius: 0.25em;background-color: #f0f8ff;}#sk-container-id-3 input.sk-toggleable__control:checked~div.sk-toggleable__content {max-height: 200px;max-width: 100%;overflow: auto;}#sk-container-id-3 input.sk-toggleable__control:checked~label.sk-toggleable__label-arrow:before {content: \"▾\";}#sk-container-id-3 div.sk-estimator input.sk-toggleable__control:checked~label.sk-toggleable__label {background-color: #d4ebff;}#sk-container-id-3 div.sk-label input.sk-toggleable__control:checked~label.sk-toggleable__label {background-color: #d4ebff;}#sk-container-id-3 input.sk-hidden--visually {border: 0;clip: rect(1px 1px 1px 1px);clip: rect(1px, 1px, 1px, 1px);height: 1px;margin: -1px;overflow: hidden;padding: 0;position: absolute;width: 1px;}#sk-container-id-3 div.sk-estimator {font-family: monospace;background-color: #f0f8ff;border: 1px dotted black;border-radius: 0.25em;box-sizing: border-box;margin-bottom: 0.5em;}#sk-container-id-3 div.sk-estimator:hover {background-color: #d4ebff;}#sk-container-id-3 div.sk-parallel-item::after {content: \"\";width: 100%;border-bottom: 1px solid gray;flex-grow: 1;}#sk-container-id-3 div.sk-label:hover label.sk-toggleable__label {background-color: #d4ebff;}#sk-container-id-3 div.sk-serial::before {content: \"\";position: absolute;border-left: 1px solid gray;box-sizing: border-box;top: 0;bottom: 0;left: 50%;z-index: 0;}#sk-container-id-3 div.sk-serial {display: flex;flex-direction: column;align-items: center;background-color: white;padding-right: 0.2em;padding-left: 0.2em;position: relative;}#sk-container-id-3 div.sk-item {position: relative;z-index: 1;}#sk-container-id-3 div.sk-parallel {display: flex;align-items: stretch;justify-content: center;background-color: white;position: relative;}#sk-container-id-3 div.sk-item::before, #sk-container-id-3 div.sk-parallel-item::before {content: \"\";position: absolute;border-left: 1px solid gray;box-sizing: border-box;top: 0;bottom: 0;left: 50%;z-index: -1;}#sk-container-id-3 div.sk-parallel-item {display: flex;flex-direction: column;z-index: 1;position: relative;background-color: white;}#sk-container-id-3 div.sk-parallel-item:first-child::after {align-self: flex-end;width: 50%;}#sk-container-id-3 div.sk-parallel-item:last-child::after {align-self: flex-start;width: 50%;}#sk-container-id-3 div.sk-parallel-item:only-child::after {width: 0;}#sk-container-id-3 div.sk-dashed-wrapped {border: 1px dashed gray;margin: 0 0.4em 0.5em 0.4em;box-sizing: border-box;padding-bottom: 0.4em;background-color: white;}#sk-container-id-3 div.sk-label label {font-family: monospace;font-weight: bold;display: inline-block;line-height: 1.2em;}#sk-container-id-3 div.sk-label-container {text-align: center;}#sk-container-id-3 div.sk-container {/* jupyter's `normalize.less` sets `[hidden] { display: none; }` but bootstrap.min.css set `[hidden] { display: none !important; }` so we also need the `!important` here to be able to override the default hidden behavior on the sphinx rendered scikit-learn.org. See: https://github.com/scikit-learn/scikit-learn/issues/21755 */display: inline-block !important;position: relative;}#sk-container-id-3 div.sk-text-repr-fallback {display: none;}</style><div id=\"sk-container-id-3\" class=\"sk-top-container\"><div class=\"sk-text-repr-fallback\"><pre>DecisionTreeRegressor()</pre><b>In a Jupyter environment, please rerun this cell to show the HTML representation or trust the notebook. <br />On GitHub, the HTML representation is unable to render, please try loading this page with nbviewer.org.</b></div><div class=\"sk-container\" hidden><div class=\"sk-item\"><div class=\"sk-estimator sk-toggleable\"><input class=\"sk-toggleable__control sk-hidden--visually\" id=\"sk-estimator-id-3\" type=\"checkbox\" checked><label for=\"sk-estimator-id-3\" class=\"sk-toggleable__label sk-toggleable__label-arrow\">DecisionTreeRegressor</label><div class=\"sk-toggleable__content\"><pre>DecisionTreeRegressor()</pre></div></div></div></div></div>"
      ],
      "text/plain": [
       "DecisionTreeRegressor()"
      ]
     },
     "execution_count": 21,
     "metadata": {},
     "output_type": "execute_result"
    }
   ],
   "source": [
    "from sklearn.tree import DecisionTreeRegressor\n",
    "from sklearn.metrics import mean_absolute_error, mean_squared_error, r2_score\n",
    "model=DecisionTreeRegressor()\n",
    "model.fit(X_train,y_train)\n"
   ]
  },
  {
   "cell_type": "markdown",
   "metadata": {
    "id": "1_R8qAN67PMx"
   },
   "source": [
    "Make some prediction"
   ]
  },
  {
   "cell_type": "code",
   "execution_count": 22,
   "metadata": {
    "colab": {
     "base_uri": "https://localhost:8080/"
    },
    "executionInfo": {
     "elapsed": 332,
     "status": "ok",
     "timestamp": 1724713504872,
     "user": {
      "displayName": "Hassan Nfissi",
      "userId": "14480210957196573271"
     },
     "user_tz": -60
    },
    "id": "0Na-cMcp69DB",
    "outputId": "4660a27c-9456-42fc-b62b-07c37a0ff527"
   },
   "outputs": [
    {
     "data": {
      "text/plain": [
       "array([171.        ,  66.        , 483.875     , 108.        ,\n",
       "       508.2       ,  82.        , 282.        , 435.        ,\n",
       "       420.        , 455.66666667,   4.        , 119.        ,\n",
       "       406.        ,  84.        , 335.        , 225.        ,\n",
       "       362.        ,  98.        , 481.        ,  57.        ,\n",
       "       341.        , 185.        , 288.        , 172.        ,\n",
       "       346.        ,   1.        , 188.        , 270.        ,\n",
       "        12.        , 408.        , 305.        , 249.        ,\n",
       "       240.        , 442.        , 324.        , 504.        ,\n",
       "       437.        ,  70.        , 208.        , 352.        ,\n",
       "       323.        , 378.        , 122.        , 377.5       ,\n",
       "       175.        ,  68.        , 267.        , 442.        ,\n",
       "       425.        ,  30.        , 185.        , 438.66666667,\n",
       "       292.        ,   8.        , 490.5       , 305.        ,\n",
       "        98.        , 425.        , 304.        , 123.        ,\n",
       "       226.        , 318.        ,  82.        , 438.66666667,\n",
       "        70.        , 486.        , 425.        , 355.        ,\n",
       "       325.        , 130.        ,  67.        , 147.        ,\n",
       "       406.        , 224.        ,  66.        , 175.        ,\n",
       "        57.        , 223.        , 184.        ,  82.        ,\n",
       "       192.        ])"
      ]
     },
     "execution_count": 22,
     "metadata": {},
     "output_type": "execute_result"
    }
   ],
   "source": [
    "y_pred=model.predict(X_test)\n",
    "y_pred"
   ]
  },
  {
   "cell_type": "markdown",
   "metadata": {
    "id": "aKqJao4n7iZf"
   },
   "source": [
    "Evaluate the model"
   ]
  },
  {
   "cell_type": "code",
   "execution_count": 24,
   "metadata": {
    "colab": {
     "base_uri": "https://localhost:8080/"
    },
    "executionInfo": {
     "elapsed": 430,
     "status": "ok",
     "timestamp": 1724713592004,
     "user": {
      "displayName": "Hassan Nfissi",
      "userId": "14480210957196573271"
     },
     "user_tz": -60
    },
    "id": "R8YXsApU7hP9",
    "outputId": "814cfdb0-8fe6-4e35-9588-e7172b433bfd"
   },
   "outputs": [
    {
     "name": "stdout",
     "output_type": "stream",
     "text": [
      "mae is : 34.72417695473251\n",
      "mse is : 2784.764472736625\n",
      "score is : 0.892805502242955\n"
     ]
    }
   ],
   "source": [
    "mae=mean_absolute_error(y_test,y_pred)\n",
    "mse=mean_squared_error(y_test,y_pred)\n",
    "score=r2_score(y_test,y_pred)\n",
    "print(\"mae is :\",mae)\n",
    "print(\"mse is :\",mse)\n",
    "print(\"score is :\",score)"
   ]
  },
  {
   "cell_type": "markdown",
   "metadata": {
    "id": "dlFc01Ab8PJI"
   },
   "source": [
    "we need to evaluate our model by find the best parameter by using GridSearchCV method"
   ]
  },
  {
   "cell_type": "code",
   "execution_count": 33,
   "metadata": {
    "colab": {
     "base_uri": "https://localhost:8080/"
    },
    "executionInfo": {
     "elapsed": 5882,
     "status": "ok",
     "timestamp": 1724714144895,
     "user": {
      "displayName": "Hassan Nfissi",
      "userId": "14480210957196573271"
     },
     "user_tz": -60
    },
    "id": "pEYHpBvD8OEw",
    "outputId": "712166f0-c210-47cc-dcc2-aa144725e4b4"
   },
   "outputs": [
    {
     "name": "stdout",
     "output_type": "stream",
     "text": [
      "Best parametrs are {'criterion': 'squared_error', 'max_depth': 10, 'min_samples_leaf': 4, 'min_samples_split': 10}\n",
      "Best score is  -3344.336045249166\n"
     ]
    }
   ],
   "source": [
    "from sklearn.model_selection import GridSearchCV\n",
    "param_grid = {\n",
    "    'max_depth': [None, 10, 20, 30, 40, 50],\n",
    "    'min_samples_split': [2, 5, 10],\n",
    "    'min_samples_leaf': [1, 2, 4],\n",
    "    'criterion': ['squared_error', 'absolute_error']\n",
    "}\n",
    "#  Initialize the model\n",
    "model=DecisionTreeRegressor()\n",
    "Grid_search=GridSearchCV(estimator=model,param_grid=param_grid,cv=5, scoring='neg_mean_squared_error')\n",
    "Grid_search.fit(X_train,y_train)\n",
    "print(\"Best parametrs are\",Grid_search.best_params_)\n",
    "print(\"Best score is \",Grid_search.best_score_)"
   ]
  },
  {
   "cell_type": "code",
   "execution_count": 35,
   "metadata": {
    "colab": {
     "base_uri": "https://localhost:8080/"
    },
    "executionInfo": {
     "elapsed": 359,
     "status": "ok",
     "timestamp": 1724714153350,
     "user": {
      "displayName": "Hassan Nfissi",
      "userId": "14480210957196573271"
     },
     "user_tz": -60
    },
    "id": "hv9GuvJf9z28",
    "outputId": "f7df3f3d-0030-48c2-a6bd-32f68443710a"
   },
   "outputs": [
    {
     "name": "stdout",
     "output_type": "stream",
     "text": [
      "MAE: 35.18137860082304\n",
      "MSE: 2849.4987096000946\n",
      "R^2: 0.8903136742710741\n"
     ]
    }
   ],
   "source": [
    "best_model = Grid_search.best_estimator_\n",
    "y_pred = best_model.predict(X_test)\n",
    "print(f'MAE: {mean_absolute_error(y_test, y_pred)}')\n",
    "print(f'MSE: {mean_squared_error(y_test, y_pred)}')\n",
    "print(f'R^2: {r2_score(y_test, y_pred)}')"
   ]
  },
  {
   "cell_type": "code",
   "execution_count": 67,
   "metadata": {
    "colab": {
     "base_uri": "https://localhost:8080/",
     "height": 74
    },
    "executionInfo": {
     "elapsed": 369,
     "status": "ok",
     "timestamp": 1724721651273,
     "user": {
      "displayName": "Hassan Nfissi",
      "userId": "14480210957196573271"
     },
     "user_tz": -60
    },
    "id": "YYHoIuKp-XJF",
    "outputId": "73e4201b-ff10-46de-9cd5-49cab64e311f"
   },
   "outputs": [
    {
     "data": {
      "text/html": [
       "<style>#sk-container-id-8 {color: black;}#sk-container-id-8 pre{padding: 0;}#sk-container-id-8 div.sk-toggleable {background-color: white;}#sk-container-id-8 label.sk-toggleable__label {cursor: pointer;display: block;width: 100%;margin-bottom: 0;padding: 0.3em;box-sizing: border-box;text-align: center;}#sk-container-id-8 label.sk-toggleable__label-arrow:before {content: \"▸\";float: left;margin-right: 0.25em;color: #696969;}#sk-container-id-8 label.sk-toggleable__label-arrow:hover:before {color: black;}#sk-container-id-8 div.sk-estimator:hover label.sk-toggleable__label-arrow:before {color: black;}#sk-container-id-8 div.sk-toggleable__content {max-height: 0;max-width: 0;overflow: hidden;text-align: left;background-color: #f0f8ff;}#sk-container-id-8 div.sk-toggleable__content pre {margin: 0.2em;color: black;border-radius: 0.25em;background-color: #f0f8ff;}#sk-container-id-8 input.sk-toggleable__control:checked~div.sk-toggleable__content {max-height: 200px;max-width: 100%;overflow: auto;}#sk-container-id-8 input.sk-toggleable__control:checked~label.sk-toggleable__label-arrow:before {content: \"▾\";}#sk-container-id-8 div.sk-estimator input.sk-toggleable__control:checked~label.sk-toggleable__label {background-color: #d4ebff;}#sk-container-id-8 div.sk-label input.sk-toggleable__control:checked~label.sk-toggleable__label {background-color: #d4ebff;}#sk-container-id-8 input.sk-hidden--visually {border: 0;clip: rect(1px 1px 1px 1px);clip: rect(1px, 1px, 1px, 1px);height: 1px;margin: -1px;overflow: hidden;padding: 0;position: absolute;width: 1px;}#sk-container-id-8 div.sk-estimator {font-family: monospace;background-color: #f0f8ff;border: 1px dotted black;border-radius: 0.25em;box-sizing: border-box;margin-bottom: 0.5em;}#sk-container-id-8 div.sk-estimator:hover {background-color: #d4ebff;}#sk-container-id-8 div.sk-parallel-item::after {content: \"\";width: 100%;border-bottom: 1px solid gray;flex-grow: 1;}#sk-container-id-8 div.sk-label:hover label.sk-toggleable__label {background-color: #d4ebff;}#sk-container-id-8 div.sk-serial::before {content: \"\";position: absolute;border-left: 1px solid gray;box-sizing: border-box;top: 0;bottom: 0;left: 50%;z-index: 0;}#sk-container-id-8 div.sk-serial {display: flex;flex-direction: column;align-items: center;background-color: white;padding-right: 0.2em;padding-left: 0.2em;position: relative;}#sk-container-id-8 div.sk-item {position: relative;z-index: 1;}#sk-container-id-8 div.sk-parallel {display: flex;align-items: stretch;justify-content: center;background-color: white;position: relative;}#sk-container-id-8 div.sk-item::before, #sk-container-id-8 div.sk-parallel-item::before {content: \"\";position: absolute;border-left: 1px solid gray;box-sizing: border-box;top: 0;bottom: 0;left: 50%;z-index: -1;}#sk-container-id-8 div.sk-parallel-item {display: flex;flex-direction: column;z-index: 1;position: relative;background-color: white;}#sk-container-id-8 div.sk-parallel-item:first-child::after {align-self: flex-end;width: 50%;}#sk-container-id-8 div.sk-parallel-item:last-child::after {align-self: flex-start;width: 50%;}#sk-container-id-8 div.sk-parallel-item:only-child::after {width: 0;}#sk-container-id-8 div.sk-dashed-wrapped {border: 1px dashed gray;margin: 0 0.4em 0.5em 0.4em;box-sizing: border-box;padding-bottom: 0.4em;background-color: white;}#sk-container-id-8 div.sk-label label {font-family: monospace;font-weight: bold;display: inline-block;line-height: 1.2em;}#sk-container-id-8 div.sk-label-container {text-align: center;}#sk-container-id-8 div.sk-container {/* jupyter's `normalize.less` sets `[hidden] { display: none; }` but bootstrap.min.css set `[hidden] { display: none !important; }` so we also need the `!important` here to be able to override the default hidden behavior on the sphinx rendered scikit-learn.org. See: https://github.com/scikit-learn/scikit-learn/issues/21755 */display: inline-block !important;position: relative;}#sk-container-id-8 div.sk-text-repr-fallback {display: none;}</style><div id=\"sk-container-id-8\" class=\"sk-top-container\"><div class=\"sk-text-repr-fallback\"><pre>DecisionTreeRegressor(max_depth=10, min_samples_leaf=4, min_samples_split=5)</pre><b>In a Jupyter environment, please rerun this cell to show the HTML representation or trust the notebook. <br />On GitHub, the HTML representation is unable to render, please try loading this page with nbviewer.org.</b></div><div class=\"sk-container\" hidden><div class=\"sk-item\"><div class=\"sk-estimator sk-toggleable\"><input class=\"sk-toggleable__control sk-hidden--visually\" id=\"sk-estimator-id-8\" type=\"checkbox\" checked><label for=\"sk-estimator-id-8\" class=\"sk-toggleable__label sk-toggleable__label-arrow\">DecisionTreeRegressor</label><div class=\"sk-toggleable__content\"><pre>DecisionTreeRegressor(max_depth=10, min_samples_leaf=4, min_samples_split=5)</pre></div></div></div></div></div>"
      ],
      "text/plain": [
       "DecisionTreeRegressor(max_depth=10, min_samples_leaf=4, min_samples_split=5)"
      ]
     },
     "execution_count": 67,
     "metadata": {},
     "output_type": "execute_result"
    }
   ],
   "source": [
    "# sow now we find th best parameters for our model\n",
    "best_model = DecisionTreeRegressor(\n",
    "    criterion='squared_error',\n",
    "    max_depth=10,\n",
    "    min_samples_leaf=4,\n",
    "    min_samples_split=5\n",
    ")\n",
    "best_model.fit(X_train,y_train)\n"
   ]
  },
  {
   "cell_type": "code",
   "execution_count": 1,
   "metadata": {
    "colab": {
     "base_uri": "https://localhost:8080/",
     "height": 219
    },
    "executionInfo": {
     "elapsed": 62,
     "status": "error",
     "timestamp": 1724768899773,
     "user": {
      "displayName": "Hassan Nfissi",
      "userId": "14480210957196573271"
     },
     "user_tz": -60
    },
    "id": "SKE45w_--p02",
    "outputId": "11706f4c-4355-4c8d-d32b-3957c33a1b88"
   },
   "outputs": [
    {
     "ename": "NameError",
     "evalue": "name 'best_model' is not defined",
     "output_type": "error",
     "traceback": [
      "\u001b[0;31m---------------------------------------------------------------------------\u001b[0m",
      "\u001b[0;31mNameError\u001b[0m                                 Traceback (most recent call last)",
      "\u001b[0;32m<ipython-input-1-cdaa18365446>\u001b[0m in \u001b[0;36m<cell line: 1>\u001b[0;34m()\u001b[0m\n\u001b[0;32m----> 1\u001b[0;31m \u001b[0my_pred\u001b[0m\u001b[0;34m=\u001b[0m\u001b[0mbest_model\u001b[0m\u001b[0;34m.\u001b[0m\u001b[0mpredict\u001b[0m\u001b[0;34m(\u001b[0m\u001b[0mX_test\u001b[0m\u001b[0;34m)\u001b[0m\u001b[0;34m\u001b[0m\u001b[0;34m\u001b[0m\u001b[0m\n\u001b[0m\u001b[1;32m      2\u001b[0m \u001b[0my_pred\u001b[0m\u001b[0;34m=\u001b[0m\u001b[0mpd\u001b[0m\u001b[0;34m.\u001b[0m\u001b[0mDataFrame\u001b[0m\u001b[0;34m(\u001b[0m\u001b[0my_pred\u001b[0m\u001b[0;34m,\u001b[0m\u001b[0mcolumns\u001b[0m\u001b[0;34m=\u001b[0m\u001b[0;34m[\u001b[0m\u001b[0;34m\"prediction\"\u001b[0m\u001b[0;34m]\u001b[0m\u001b[0;34m)\u001b[0m\u001b[0;34m\u001b[0m\u001b[0;34m\u001b[0m\u001b[0m\n\u001b[1;32m      3\u001b[0m \u001b[0my_pred\u001b[0m\u001b[0;34m[\u001b[0m\u001b[0;34m\"prediction\"\u001b[0m\u001b[0;34m]\u001b[0m \u001b[0;34m=\u001b[0m \u001b[0my_pred\u001b[0m\u001b[0;34m[\u001b[0m\u001b[0;34m\"prediction\"\u001b[0m\u001b[0;34m]\u001b[0m\u001b[0;34m.\u001b[0m\u001b[0mastype\u001b[0m\u001b[0;34m(\u001b[0m\u001b[0mint\u001b[0m\u001b[0;34m)\u001b[0m\u001b[0;34m\u001b[0m\u001b[0;34m\u001b[0m\u001b[0m\n\u001b[1;32m      4\u001b[0m \u001b[0mtest\u001b[0m\u001b[0;34m=\u001b[0m\u001b[0mpd\u001b[0m\u001b[0;34m.\u001b[0m\u001b[0mDataFrame\u001b[0m\u001b[0;34m(\u001b[0m\u001b[0my_test\u001b[0m\u001b[0;34m.\u001b[0m\u001b[0mtolist\u001b[0m\u001b[0;34m(\u001b[0m\u001b[0;34m)\u001b[0m\u001b[0;34m,\u001b[0m\u001b[0mcolumns\u001b[0m\u001b[0;34m=\u001b[0m\u001b[0;34m[\u001b[0m\u001b[0;34m\"test\"\u001b[0m\u001b[0;34m]\u001b[0m\u001b[0;34m)\u001b[0m\u001b[0;34m\u001b[0m\u001b[0;34m\u001b[0m\u001b[0m\n\u001b[1;32m      5\u001b[0m \u001b[0mdf_pred\u001b[0m \u001b[0;34m=\u001b[0m \u001b[0mpd\u001b[0m\u001b[0;34m.\u001b[0m\u001b[0mconcat\u001b[0m\u001b[0;34m(\u001b[0m\u001b[0;34m[\u001b[0m\u001b[0mtest\u001b[0m\u001b[0;34m,\u001b[0m\u001b[0my_pred\u001b[0m\u001b[0;34m]\u001b[0m\u001b[0;34m,\u001b[0m \u001b[0maxis\u001b[0m\u001b[0;34m=\u001b[0m\u001b[0;36m1\u001b[0m\u001b[0;34m)\u001b[0m\u001b[0;34m\u001b[0m\u001b[0;34m\u001b[0m\u001b[0m\n",
      "\u001b[0;31mNameError\u001b[0m: name 'best_model' is not defined"
     ]
    }
   ],
   "source": [
    "y_pred=best_model.predict(X_test)\n",
    "y_pred=pd.DataFrame(y_pred,columns=[\"prediction\"])\n",
    "y_pred[\"prediction\"] = y_pred[\"prediction\"].astype(int)\n",
    "test=pd.DataFrame(y_test.tolist(),columns=[\"test\"])\n",
    "df_pred = pd.concat([test,y_pred], axis=1)\n",
    "df_pred.head(20)\n",
    "\n"
   ]
  },
  {
   "cell_type": "markdown",
   "metadata": {
    "id": "MLS48kc5brto"
   },
   "source": [
    "Create a pipeline for our step for preprocessing the data"
   ]
  },
  {
   "cell_type": "code",
   "execution_count": 96,
   "metadata": {
    "executionInfo": {
     "elapsed": 367,
     "status": "ok",
     "timestamp": 1724733969958,
     "user": {
      "displayName": "Hassan Nfissi",
      "userId": "14480210957196573271"
     },
     "user_tz": -60
    },
    "id": "HmwSnSH3Eyj_"
   },
   "outputs": [],
   "source": [
    "import pickle\n",
    "\n",
    "# Assuming `model` is your model object\n",
    "with open('model.pickle', 'wb') as f:\n",
    "    pickle.dump(best_model, f)"
   ]
  },
  {
   "cell_type": "code",
   "execution_count": 97,
   "metadata": {
    "colab": {
     "base_uri": "https://localhost:8080/",
     "height": 17
    },
    "executionInfo": {
     "elapsed": 741,
     "status": "ok",
     "timestamp": 1724733974349,
     "user": {
      "displayName": "Hassan Nfissi",
      "userId": "14480210957196573271"
     },
     "user_tz": -60
    },
    "id": "rgCmg9P-G4i8",
    "outputId": "3671449c-4908-479c-e4ad-7be9133aaf4f"
   },
   "outputs": [
    {
     "data": {
      "application/javascript": [
       "\n",
       "    async function download(id, filename, size) {\n",
       "      if (!google.colab.kernel.accessAllowed) {\n",
       "        return;\n",
       "      }\n",
       "      const div = document.createElement('div');\n",
       "      const label = document.createElement('label');\n",
       "      label.textContent = `Downloading \"${filename}\": `;\n",
       "      div.appendChild(label);\n",
       "      const progress = document.createElement('progress');\n",
       "      progress.max = size;\n",
       "      div.appendChild(progress);\n",
       "      document.body.appendChild(div);\n",
       "\n",
       "      const buffers = [];\n",
       "      let downloaded = 0;\n",
       "\n",
       "      const channel = await google.colab.kernel.comms.open(id);\n",
       "      // Send a message to notify the kernel that we're ready.\n",
       "      channel.send({})\n",
       "\n",
       "      for await (const message of channel.messages) {\n",
       "        // Send a message to notify the kernel that we're ready.\n",
       "        channel.send({})\n",
       "        if (message.buffers) {\n",
       "          for (const buffer of message.buffers) {\n",
       "            buffers.push(buffer);\n",
       "            downloaded += buffer.byteLength;\n",
       "            progress.value = downloaded;\n",
       "          }\n",
       "        }\n",
       "      }\n",
       "      const blob = new Blob(buffers, {type: 'application/binary'});\n",
       "      const a = document.createElement('a');\n",
       "      a.href = window.URL.createObjectURL(blob);\n",
       "      a.download = filename;\n",
       "      div.appendChild(a);\n",
       "      a.click();\n",
       "      div.remove();\n",
       "    }\n",
       "  "
      ],
      "text/plain": [
       "<IPython.core.display.Javascript object>"
      ]
     },
     "metadata": {},
     "output_type": "display_data"
    },
    {
     "data": {
      "application/javascript": [
       "download(\"download_ddf1a6a9-c481-4250-a6ed-14c74df8bc2a\", \"model.pickle\", 13335)"
      ],
      "text/plain": [
       "<IPython.core.display.Javascript object>"
      ]
     },
     "metadata": {},
     "output_type": "display_data"
    }
   ],
   "source": [
    "from google.colab import files\n",
    "\n",
    "files.download('model.pickle')\n"
   ]
  }
 ],
 "metadata": {
  "colab": {
   "authorship_tag": "ABX9TyMz3VJw7NEIBoJhJTPLTvbK",
   "provenance": []
  },
  "kernelspec": {
   "display_name": "Python 3 (ipykernel)",
   "language": "python",
   "name": "python3"
  },
  "language_info": {
   "codemirror_mode": {
    "name": "ipython",
    "version": 3
   },
   "file_extension": ".py",
   "mimetype": "text/x-python",
   "name": "python",
   "nbconvert_exporter": "python",
   "pygments_lexer": "ipython3",
   "version": "3.12.4"
  }
 },
 "nbformat": 4,
 "nbformat_minor": 4
}
